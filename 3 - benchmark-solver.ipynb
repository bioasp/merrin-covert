{
 "cells": [
  {
   "cell_type": "markdown",
   "metadata": {},
   "source": [
    "# Benchmark - Solving -"
   ]
  },
  {
   "cell_type": "code",
   "execution_count": null,
   "metadata": {},
   "outputs": [],
   "source": [
    "import os\n",
    "import pandas as pd\n",
    "from time import time\n",
    "from glob import glob"
   ]
  },
  {
   "cell_type": "code",
   "execution_count": null,
   "metadata": {},
   "outputs": [],
   "source": [
    "import merrin.Loader as loader\n",
    "import merrin.ASPApplication as app\n",
    "import merrin.DataProcessing as dataprocessing\n",
    "from merrin.ASPApplication import ResolutionMode, UpdateMode, OptimisationMode\n",
    "from merrin.Parameters import FLUXOMIC_DATA, PROTEOMIC_DATA, CINETIC_DATA, DATA_TYPE_COLUMN"
   ]
  },
  {
   "cell_type": "markdown",
   "metadata": {},
   "source": [
    "## Parameters"
   ]
  },
  {
   "cell_type": "code",
   "execution_count": null,
   "metadata": {},
   "outputs": [],
   "source": [
    "# Files\n",
    "metabolic_network_file = f'data/covert/metabolic_network.xml'\n",
    "regulatory_network_file = f'data/covert/regulatory_network.sbml'\n",
    "pkn_file = f'data/covert/interactions.txt'\n",
    "objective_function = 'Growth'"
   ]
  },
  {
   "cell_type": "code",
   "execution_count": null,
   "metadata": {},
   "outputs": [],
   "source": [
    "# Model Parameters\n",
    "threads = 1\n",
    "limits = 51\n",
    "timelimits = 600\n",
    "resolution_mode = ResolutionMode.SUBSET_MINIMAL\n",
    "update_mode = UpdateMode.SYNCHRONOUS"
   ]
  },
  {
   "cell_type": "code",
   "execution_count": null,
   "metadata": {},
   "outputs": [],
   "source": [
    "# Benchmark\n",
    "benchmark_dir = './benchmark/instances/datatype-{}/degradation-{}%/seed-{}/*.csv'\n",
    "\n",
    "# Instance to solve\n",
    "data_type = [\n",
    "    [CINETIC_DATA, FLUXOMIC_DATA, PROTEOMIC_DATA],\n",
    "    [CINETIC_DATA, PROTEOMIC_DATA],\n",
    "    [PROTEOMIC_DATA],\n",
    "    [CINETIC_DATA, FLUXOMIC_DATA]\n",
    "]\n",
    "seeds = range(0, 10)\n",
    "degradations = range(0, 60, 10)\n",
    "\n",
    "# Results\n",
    "results_dir = './benchmark/results/bnets/'\n",
    "statistic_file = './benchmark/results/inferring_statistics.csv'\n",
    "bn_index_file = './benchmark/results/bn_index.csv'\n",
    "bns_by_instance_file = './benchmark/results/bn_by_instances.csv'\n",
    "\n",
    "# Parameters\n",
    "optimisation_mode = OptimisationMode.TIME_BUFFER\n",
    "observation_buffer = 5\n",
    "data_error = 0.3"
   ]
  },
  {
   "cell_type": "code",
   "execution_count": null,
   "metadata": {},
   "outputs": [],
   "source": [
    "def create_folder(folder):\n",
    "    if not os.path.exists(folder):\n",
    "        os.makedirs(folder)"
   ]
  },
  {
   "cell_type": "code",
   "execution_count": null,
   "metadata": {},
   "outputs": [],
   "source": [
    "create_folder('./benchmark/results/')"
   ]
  },
  {
   "cell_type": "markdown",
   "metadata": {},
   "source": [
    "## Load Files"
   ]
  },
  {
   "cell_type": "code",
   "execution_count": null,
   "metadata": {},
   "outputs": [],
   "source": [
    "mn = loader.load_sbml(metabolic_network_file)\n",
    "inputs = sorted(mn.get_inputs())\n",
    "pkn = loader.load_pkn(pkn_file, inputs)"
   ]
  },
  {
   "cell_type": "code",
   "execution_count": null,
   "metadata": {},
   "outputs": [],
   "source": [
    "reactions  = mn.get_reactions()\n",
    "external_reactions = set(r for r, _ in mn.get_input_reactions())\n",
    "internal_reactions = reactions.difference(external_reactions)\n",
    "inputs = mn.get_inputs()\n",
    "outputs = mn.get_outputs()\n",
    "regulators = set(pkn.nodes()).difference(reactions).difference(inputs).difference(outputs)"
   ]
  },
  {
   "cell_type": "markdown",
   "metadata": {},
   "source": [
    "## Solve Benchmark"
   ]
  },
  {
   "cell_type": "code",
   "execution_count": null,
   "metadata": {},
   "outputs": [],
   "source": [
    "def load_data(path):\n",
    "    sims_file = sorted(glob(path))\n",
    "    sims = {}\n",
    "    for k, sf in enumerate(sims_file):\n",
    "        sims[k] = pd.read_csv(sf, sep=',')\n",
    "        sims[k].set_index('Time', inplace=True)\n",
    "    return dataprocessing.preprocess_simulations(sims)\n",
    "    \n",
    "def write_bnet(file, bn):\n",
    "    bnet = []\n",
    "    for k, v in bn.items():\n",
    "        if v == '':\n",
    "            continue\n",
    "        bnet.append(f'{k}, {v}')\n",
    "    bnet = '\\n'.join(bnet)\n",
    "    with open(file, 'w') as f:\n",
    "        f.write(bnet)"
   ]
  },
  {
   "cell_type": "code",
   "execution_count": null,
   "metadata": {},
   "outputs": [],
   "source": [
    "benchmark_data = []\n",
    "inferred_bn = []\n",
    "for seed in seeds:\n",
    "    for degradation in degradations:\n",
    "        degradation /= 100\n",
    "        for tags in data_type:\n",
    "            tags.sort()\n",
    "            tags_str = ''.join([t[0] for t in tags])\n",
    "            instances_path = benchmark_dir.format(tags_str, int(degradation * 100), seed)\n",
    "\n",
    "            print(f'Instance: {tags_str}-{int(degradation * 100)}%-S{seed}')\n",
    "    \n",
    "            # Solving\n",
    "            dt = time()\n",
    "            processed_observations = load_data(instances_path)\n",
    "            model = app.Model(\n",
    "                mn, pkn, objective_function,\n",
    "                n=limits, thread=threads,\n",
    "                resolution_mode=resolution_mode, optimisation_mode=optimisation_mode,\n",
    "                data_error=data_error\n",
    "            )\n",
    "            model.build(\n",
    "                processed_observations, \n",
    "                observation_buffer=observation_buffer,\n",
    "                update_mode=update_mode\n",
    "            )\n",
    "            status = model.solve(timelimit=timelimits)\n",
    "            dt = time() - dt\n",
    "            \n",
    "            print(f'\\tSolved.')\n",
    "\n",
    "            results = model.get_results()\n",
    "            statistics =  model.statistics()\n",
    "\n",
    "            # Retrieve results\n",
    "            instance_id = {\n",
    "                    'Instance': 'covert',\n",
    "                    'Data type': tags_str.upper(),\n",
    "                    'Degradation %': int(degradation * 100),\n",
    "                    'Seed': seed,\n",
    "            }\n",
    "            benchmark_data.append(\n",
    "                instance_id |\n",
    "                {\n",
    "                    'Error epsilon': data_error,\n",
    "                    'Observation buffer': observation_buffer,\n",
    "                    'Time limits': timelimits,\n",
    "                    'Solution limit (s)': limits,\n",
    "                    'Status': status,\n",
    "                    '# Results': len(results),\n",
    "                    'Time (s)': dt,\n",
    "                    \"#Call to MSS_verification\": statistics['MSS_verification']['nb_calls'],\n",
    "                    \"Total time in MSS_verification (s)\": statistics['MSS_verification']['total_duration'],\n",
    "                    \"#Call to REG_verification\": statistics['REG_verification']['nb_calls'],\n",
    "                    \"Total time in REG_verification (s)\": statistics['REG_verification']['total_duration']\n",
    "                }\n",
    "            )\n",
    "\n",
    "            # Save solutions\n",
    "            for i, res in enumerate(results):\n",
    "                extended_res = instance_id | {'Solution ID': i} | res\n",
    "                inferred_bn.append(extended_res)\n",
    "                # bnet_file = export_path + f'solution-{i}.bnet'\n",
    "                # write_bnet(bnet_file, res)\n",
    "\n",
    "            print(f'\\tDone.')"
   ]
  },
  {
   "cell_type": "markdown",
   "metadata": {},
   "source": [
    "## Exporting statistics"
   ]
  },
  {
   "cell_type": "code",
   "execution_count": null,
   "metadata": {},
   "outputs": [],
   "source": [
    "df = pd.DataFrame(benchmark_data)\n",
    "df = df.sort_values(['Instance', 'Data type', 'Degradation %', 'Seed'])\n",
    "df = df.reset_index()\n",
    "df = df.drop('index', axis=1)\n",
    "df = df.rename({'Data type': 'Data_type', 'Degradation %': 'Degradation', 'Solution ID': 'Solution_ID'}, axis=1)\n",
    "df.to_csv(statistic_file, header=True, index=False)\n",
    "df"
   ]
  },
  {
   "cell_type": "markdown",
   "metadata": {},
   "source": [
    "## Indexing the inferred Boolean networks"
   ]
  },
  {
   "cell_type": "markdown",
   "metadata": {},
   "source": [
    "### CSV export"
   ]
  },
  {
   "cell_type": "code",
   "execution_count": null,
   "metadata": {},
   "outputs": [],
   "source": [
    "bn_index = pd.DataFrame(inferred_bn)[list(pkn.nodes)]\n",
    "bn_index = bn_index.drop_duplicates()\n",
    "bn_index = bn_index.reset_index()\n",
    "bn_index = bn_index.drop('index', axis=1)\n",
    "bn_index = bn_index.reset_index()\n",
    "bn_index"
   ]
  },
  {
   "cell_type": "code",
   "execution_count": null,
   "metadata": {},
   "outputs": [],
   "source": [
    "bns_by_instance = pd.DataFrame(inferred_bn)\n",
    "bns_by_instance = bns_by_instance.merge(bn_index, on=list(pkn.nodes), how='left')\n",
    "bns_by_instance = bns_by_instance.rename(columns={'index': 'Ref_BN'})\n",
    "bns_by_instance = bns_by_instance.rename({'Data type': 'Data_type', 'Degradation %': 'Degradation', 'Solution ID': 'Solution_ID'}, axis=1)\n",
    "bns_by_instance  = bns_by_instance.drop(list(pkn.nodes), axis=1)\n",
    "bns_by_instance"
   ]
  },
  {
   "cell_type": "code",
   "execution_count": null,
   "metadata": {},
   "outputs": [],
   "source": [
    "bn_index.to_csv(bn_index_file)\n",
    "bns_by_instance.to_csv(bns_by_instance_file)"
   ]
  },
  {
   "cell_type": "markdown",
   "metadata": {},
   "source": [
    "### BNet generation"
   ]
  },
  {
   "cell_type": "code",
   "execution_count": null,
   "metadata": {},
   "outputs": [],
   "source": [
    "for bn_data in bn_index[list(pkn.nodes)].iterrows():\n",
    "    ref = bn_data[0]\n",
    "    bn = bn_data[1]\n",
    "    bnet_path = f'./benchmark/results/bnet/'\n",
    "    create_folder(bnet_path)\n",
    "    write_bnet(bnet_path + f'BN-{ref}.bnet', bn)"
   ]
  },
  {
   "cell_type": "code",
   "execution_count": null,
   "metadata": {},
   "outputs": [],
   "source": []
  }
 ],
 "metadata": {
  "interpreter": {
   "hash": "d4d1e4263499bec80672ea0156c357c1ee493ec2b1c70f0acce89fc37c4a6abe"
  },
  "kernelspec": {
   "display_name": "Python 3 (ipykernel)",
   "language": "python",
   "name": "python3"
  },
  "language_info": {
   "codemirror_mode": {
    "name": "ipython",
    "version": 3
   },
   "file_extension": ".py",
   "mimetype": "text/x-python",
   "name": "python",
   "nbconvert_exporter": "python",
   "pygments_lexer": "ipython3",
   "version": "3.10.2"
  }
 },
 "nbformat": 4,
 "nbformat_minor": 2
}
